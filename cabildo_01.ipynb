{
 "cells": [
  {
   "cell_type": "markdown",
   "metadata": {},
   "source": [
    "# Cabildo de Mujeres STEM - 01"
   ]
  },
  {
   "cell_type": "markdown",
   "metadata": {},
   "source": [
    "Instalar wordcloud en kernel en caso que no esté instalado"
   ]
  },
  {
   "cell_type": "code",
   "execution_count": null,
   "metadata": {},
   "outputs": [],
   "source": [
    "conda install wordcloud "
   ]
  },
  {
   "cell_type": "markdown",
   "metadata": {},
   "source": [
    "Primero cargamos las librerias necesarias para procesar texto y hacer nubes de palabras"
   ]
  },
  {
   "cell_type": "code",
   "execution_count": 7,
   "metadata": {},
   "outputs": [],
   "source": [
    "import pandas as pd\n",
    "import numpy as np\n",
    "import string\n",
    "import re\n",
    "from collections import Counter\n",
    "from nltk.corpus import stopwords"
   ]
  },
  {
   "cell_type": "markdown",
   "metadata": {},
   "source": [
    "Cargamos el archivo con las respuestas"
   ]
  },
  {
   "cell_type": "code",
   "execution_count": 8,
   "metadata": {},
   "outputs": [],
   "source": [
    "rdata = pd.read_excel(\"C:/Users/Monin/Documents/Rcran/STEM/respuestas_cabildo_stem_01.xlsx\")"
   ]
  },
  {
   "cell_type": "markdown",
   "metadata": {},
   "source": [
    "Realizamos una general revisión de los datos"
   ]
  },
  {
   "cell_type": "code",
   "execution_count": 9,
   "metadata": {},
   "outputs": [
    {
     "data": {
      "text/html": [
       "<div>\n",
       "<style scoped>\n",
       "    .dataframe tbody tr th:only-of-type {\n",
       "        vertical-align: middle;\n",
       "    }\n",
       "\n",
       "    .dataframe tbody tr th {\n",
       "        vertical-align: top;\n",
       "    }\n",
       "\n",
       "    .dataframe thead th {\n",
       "        text-align: right;\n",
       "    }\n",
       "</style>\n",
       "<table border=\"1\" class=\"dataframe\">\n",
       "  <thead>\n",
       "    <tr style=\"text-align: right;\">\n",
       "      <th></th>\n",
       "      <th>ID</th>\n",
       "      <th>PREGUNTA</th>\n",
       "      <th>GRUPO</th>\n",
       "      <th>TEXTO</th>\n",
       "    </tr>\n",
       "  </thead>\n",
       "  <tbody>\n",
       "    <tr>\n",
       "      <td>10</td>\n",
       "      <td>P2_03</td>\n",
       "      <td>P2</td>\n",
       "      <td>3</td>\n",
       "      <td>Se definieron 3 pilares de la sustentabilidad ...</td>\n",
       "    </tr>\n",
       "    <tr>\n",
       "      <td>1</td>\n",
       "      <td>P1_02</td>\n",
       "      <td>P1</td>\n",
       "      <td>2</td>\n",
       "      <td>Ser parte de los espacios para generar diálogo...</td>\n",
       "    </tr>\n",
       "    <tr>\n",
       "      <td>2</td>\n",
       "      <td>P1_03</td>\n",
       "      <td>P1</td>\n",
       "      <td>3</td>\n",
       "      <td>En general, todes quisimos participar en este ...</td>\n",
       "    </tr>\n",
       "  </tbody>\n",
       "</table>\n",
       "</div>"
      ],
      "text/plain": [
       "       ID PREGUNTA  GRUPO                                              TEXTO\n",
       "10  P2_03       P2      3  Se definieron 3 pilares de la sustentabilidad ...\n",
       "1   P1_02       P1      2  Ser parte de los espacios para generar diálogo...\n",
       "2   P1_03       P1      3  En general, todes quisimos participar en este ..."
      ]
     },
     "execution_count": 9,
     "metadata": {},
     "output_type": "execute_result"
    }
   ],
   "source": [
    "rdata.shape\n",
    "rdata.sample(3)"
   ]
  },
  {
   "cell_type": "markdown",
   "metadata": {},
   "source": [
    "Definimos una función para quitar números y puntuación y dejar en minúscula cada palabra. Guardamos el texto en un nuevo campo llamado 'tokenized'"
   ]
  },
  {
   "cell_type": "code",
   "execution_count": 10,
   "metadata": {},
   "outputs": [
    {
     "data": {
      "text/plain": [
       "0     qué nos convoca la importancia de la particip...\n",
       "1    ser parte de los espacios para generar diálogo...\n",
       "2    en general todes quisimos participar en este c...\n",
       "3    reunirnos con otras generaciones aportar desde...\n",
       "4    interés por nuestro rol como mujeres en la soc...\n",
       "Name: tokenized, dtype: object"
      ]
     },
     "execution_count": 10,
     "metadata": {},
     "output_type": "execute_result"
    }
   ],
   "source": [
    "def clean_text(texto):\n",
    "    texto= str(texto)\n",
    "    clean1 = re.sub(r\"[^a-z0-9]\",\" \",str(texto.lower()))\n",
    "    clean1 = re.sub(r'['+string.punctuation + '’—”'+']', \" \",str( texto.lower()))\n",
    "    return re.sub(r'\\W+', ' ', clean1)\n",
    "\n",
    "rdata['tokenized'] = rdata['TEXTO'].map(lambda x: clean_text(x)) \n",
    "rdata['tokenized'].head()\n"
   ]
  },
  {
   "cell_type": "markdown",
   "metadata": {},
   "source": [
    "Revisamos algunas estadísticas generales y separamos los textos palabra por palabra"
   ]
  },
  {
   "cell_type": "code",
   "execution_count": 13,
   "metadata": {},
   "outputs": [
    {
     "name": "stdout",
     "output_type": "stream",
     "text": [
      "Promedio: 107.91176470588235 \n",
      "Máximo: 523 \n",
      "Mínimo: 0\n"
     ]
    }
   ],
   "source": [
    "rdata['num_wds'] = rdata['tokenized'].apply(lambda x: len(x.split()))\n",
    "#Alguas estadíticas\n",
    "print(\"Promedio: %s \\nMáximo: %s \\nMínimo: %s\" % (rdata['num_wds'].mean(), rdata['num_wds'].max(), rdata['num_wds'].min()))"
   ]
  },
  {
   "cell_type": "markdown",
   "metadata": {},
   "source": [
    "Quitamos las palabras que no aportan mayor información descriptiva"
   ]
  },
  {
   "cell_type": "code",
   "execution_count": 16,
   "metadata": {},
   "outputs": [
    {
     "data": {
      "text/plain": [
       "0    33\n",
       "1    32\n",
       "2    55\n",
       "3    60\n",
       "4    38\n",
       "Name: uniq_wds, dtype: int64"
      ]
     },
     "execution_count": 16,
     "metadata": {},
     "output_type": "execute_result"
    }
   ],
   "source": [
    "rdata = rdata[rdata['num_wds']>4]\n",
    "rdata['uniq_wds'] = rdata['tokenized'].str.split().apply(lambda x: len(set(x)))\n",
    "rdata['uniq_wds'].head()"
   ]
  },
  {
   "cell_type": "code",
   "execution_count": 17,
   "metadata": {},
   "outputs": [
    {
     "name": "stdout",
     "output_type": "stream",
     "text": [
      "Promedio: 130.85714285714286 \n",
      "Máximo: 523 \n",
      "Mínimo: 7\n"
     ]
    }
   ],
   "source": [
    "print(\"Promedio: %s \\nMáximo: %s \\nMínimo: %s\" % (rdata['num_wds'].mean(), rdata['num_wds'].max(), rdata['num_wds'].min()))\n"
   ]
  },
  {
   "cell_type": "code",
   "execution_count": null,
   "metadata": {},
   "outputs": [],
   "source": [
    "Realizamos el mapa de palabras para verlo más bonito"
   ]
  },
  {
   "cell_type": "code",
   "execution_count": null,
   "metadata": {},
   "outputs": [],
   "source": []
  },
  {
   "cell_type": "code",
   "execution_count": null,
   "metadata": {},
   "outputs": [],
   "source": []
  }
 ],
 "metadata": {
  "kernelspec": {
   "display_name": "Python 3",
   "language": "python",
   "name": "python3"
  },
  "language_info": {
   "codemirror_mode": {
    "name": "ipython",
    "version": 3
   },
   "file_extension": ".py",
   "mimetype": "text/x-python",
   "name": "python",
   "nbconvert_exporter": "python",
   "pygments_lexer": "ipython3",
   "version": "3.7.4"
  }
 },
 "nbformat": 4,
 "nbformat_minor": 2
}
